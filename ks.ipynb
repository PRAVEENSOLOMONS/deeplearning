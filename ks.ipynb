{
 "cells": [
  {
   "cell_type": "code",
   "execution_count": 2,
   "metadata": {},
   "outputs": [
    {
     "name": "stderr",
     "output_type": "stream",
     "text": [
      "c:\\Users\\prave\\anaconda3\\envs\\torch\\lib\\site-packages\\tqdm\\auto.py:22: TqdmWarning: IProgress not found. Please update jupyter and ipywidgets. See https://ipywidgets.readthedocs.io/en/stable/user_install.html\n",
      "  from .autonotebook import tqdm as notebook_tqdm\n"
     ]
    }
   ],
   "source": [
    "import torch\n",
    "import torch.nn as nn\n",
    "import torch.optim as optim\n",
    "import numpy as np"
   ]
  },
  {
   "cell_type": "code",
   "execution_count": 3,
   "metadata": {},
   "outputs": [],
   "source": [
    "class KSOM(nn.Module):\n",
    "    def __init__(self, input_dim, output_dim, learning_rate, weights):\n",
    "        super(KSOM, self).__init__()\n",
    "\n",
    "        self.input_dim = input_dim\n",
    "        self.output_dim = output_dim\n",
    "\n",
    "        self.learning_rate = learning_rate\n",
    "        \n",
    "        self.weights = nn.Parameter(weights)\n",
    "\n",
    "    def forward(self, x):\n",
    "    \n",
    "        x = x.view(-1, self.input_dim)\n",
    "        distances = torch.sum((self.weights - x.unsqueeze(1)) ** 2, dim=-1)\n",
    "        winner = torch.argmin(distances, dim=1)\n",
    "        \n",
    "        delta = x.unsqueeze(1)+self.learning_rate * (x.unsqueeze(1) - self.weights)\n",
    "        self.weights.data[winner] += torch.sum(delta, dim=0)[winner]\n",
    "\n",
    "        return winner"
   ]
  },
  {
   "cell_type": "code",
   "execution_count": 4,
   "metadata": {},
   "outputs": [],
   "source": [
    "x = torch.tensor([0.0, 0.2, 0.1, 0.2, 0.0])\n",
    "\n",
    "weights = torch.tensor([\n",
    "    [1.0, 0.9, 0.7, 0.3, 0.2],\n",
    "    [0.6, 0.7, 0.5, 0.4, 1.0],\n",
    "])"
   ]
  },
  {
   "cell_type": "code",
   "execution_count": 5,
   "metadata": {},
   "outputs": [
    {
     "name": "stdout",
     "output_type": "stream",
     "text": [
      "Winning cluster unit: tensor([1])\n",
      "Updated weights: tensor([[0.4800, 0.8000, 0.5200, 0.5600, 0.8000]], grad_fn=<IndexBackward>)\n"
     ]
    }
   ],
   "source": [
    "ksom = KSOM(input_dim=5, output_dim=2, learning_rate=0.2, weights=weights)\n",
    "\n",
    "\n",
    "winner = ksom(x)\n",
    "print(\"Winning cluster unit:\", winner)\n",
    "\n",
    "\n",
    "print(\"Updated weights:\", ksom.weights[winner])\n",
    "\n"
   ]
  },
  {
   "cell_type": "code",
   "execution_count": 6,
   "metadata": {},
   "outputs": [
    {
     "name": "stdout",
     "output_type": "stream",
     "text": [
      "Updated learning rate: 0.1\n"
     ]
    }
   ],
   "source": [
    "print(\"Updated learning rate:\",0.5*ksom.learning_rate)"
   ]
  }
 ],
 "metadata": {
  "kernelspec": {
   "display_name": "torch",
   "language": "python",
   "name": "python3"
  },
  "language_info": {
   "codemirror_mode": {
    "name": "ipython",
    "version": 3
   },
   "file_extension": ".py",
   "mimetype": "text/x-python",
   "name": "python",
   "nbconvert_exporter": "python",
   "pygments_lexer": "ipython3",
   "version": "3.7.0"
  },
  "orig_nbformat": 4,
  "vscode": {
   "interpreter": {
    "hash": "c7433cbdc30d13fed05b4b4d42951820fdebc4db49cfb198a3aaa6b44f3c50e6"
   }
  }
 },
 "nbformat": 4,
 "nbformat_minor": 2
}
